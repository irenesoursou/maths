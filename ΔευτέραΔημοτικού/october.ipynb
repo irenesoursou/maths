{
 "cells": [
  {
   "cell_type": "markdown",
   "metadata": {},
   "source": [
    "#### Φόρτωση βιβλιοθηκών"
   ]
  },
  {
   "cell_type": "code",
   "execution_count": 18,
   "metadata": {},
   "outputs": [],
   "source": [
    "import math\n",
    "from termcolor import colored"
   ]
  },
  {
   "cell_type": "markdown",
   "metadata": {},
   "source": [
    "#### Βρες τους ακέραιους αριθμούς μέχρι το 100 που έχουν τουλάχιστον 6 δεκάδες και 6 μονάδες."
   ]
  },
  {
   "cell_type": "code",
   "execution_count": 25,
   "metadata": {},
   "outputs": [
    {
     "name": "stdout",
     "output_type": "stream",
     "text": [
      "[66, 67, 68, 69, 76, 77, 78, 79, 86, 87, 88, 89, 96, 97, 98, 99]\n"
     ]
    }
   ],
   "source": [
    "sunolo_arithmwn = range(0, 100) # σύνολο αριθμών μέχρι το 100\n",
    "min_dekades = 6 # ελάχιστος αριθμός δεκάδων\n",
    "min_monades = 6 # ελάχιστος αριθμός μονάδων\n",
    "\n",
    "apotelesma = []\n",
    "\n",
    "# Για κάθε αριθμό στο σύνολο τσέκαρε αν είναι αποδεκτός για να προστεθεί στο αποτέλεσμα.\n",
    "for x in sunolo_arithmwn:\n",
    "    dekades = math.floor(x / 10) # x=25, floor(25/10) = floor(2.5) = 2\n",
    "    monades = x - dekades * 10 # x=25, 25 - 2*10 = 25 - 20 = 5\n",
    "\n",
    "    kanonas1 = dekades >= min_dekades\n",
    "    kanonas2 = monades >= min_monades\n",
    "    apodektos = kanonas1 and kanonas2\n",
    "    if apodektos == True:\n",
    "            apotelesma.append(x)\n",
    "\n",
    "    # print(f'Αριθμός: {x}, Δεκάδες: {dekades}, Μονάδες: {monades}, Αποδεκτός: {\"NAI\" if apodektos else \"OXI\"}')\n",
    "\n",
    "\n",
    "print(apotelesma)\n",
    "    "
   ]
  }
 ],
 "metadata": {
  "kernelspec": {
   "display_name": "Python 3.8.13 ('maths')",
   "language": "python",
   "name": "python3"
  },
  "language_info": {
   "codemirror_mode": {
    "name": "ipython",
    "version": 3
   },
   "file_extension": ".py",
   "mimetype": "text/x-python",
   "name": "python",
   "nbconvert_exporter": "python",
   "pygments_lexer": "ipython3",
   "version": "3.8.13"
  },
  "orig_nbformat": 4,
  "vscode": {
   "interpreter": {
    "hash": "7d507eb8f631f31df91cdbe951dd9dd582ba332cf5dc7185cdf592998ab47e73"
   }
  }
 },
 "nbformat": 4,
 "nbformat_minor": 2
}
